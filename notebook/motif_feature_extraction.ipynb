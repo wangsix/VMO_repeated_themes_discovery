{
 "cells": [
  {
   "cell_type": "code",
   "execution_count": 1,
   "metadata": {
    "collapsed": false,
    "deletable": true,
    "editable": true
   },
   "outputs": [],
   "source": [
    "%load_ext autoreload\n",
    "%autoreload 2"
   ]
  },
  {
   "cell_type": "code",
   "execution_count": 5,
   "metadata": {
    "collapsed": true,
    "deletable": true,
    "editable": true
   },
   "outputs": [],
   "source": [
    "import os, itertools, functools, librosa, csv, glob, pickle\n",
    "import vmo.VMO.utility as utl\n",
    "import vmo.analysis as van\n",
    "import numpy as np\n",
    "import matplotlib.pyplot as plt\n",
    "import librosa"
   ]
  },
  {
   "cell_type": "code",
   "execution_count": 4,
   "metadata": {
    "collapsed": false,
    "deletable": true,
    "editable": true
   },
   "outputs": [],
   "source": [
    "file_path = '../JKUPDD-Aug2013/groundTruth/'\n",
    "song_list = ['bachBWV889Fg', 'beethovenOp2No1Mvt3', 'chopinOp24No4', 'gibbonsSilverSwan1612', 'mozartK282Mvt2']\n",
    "bpm_list = [84, 192, 138, 54, 120]\n",
    "brange = [[1,110],[-1,555],[-1, 556],[1, 80],[-1,526]]\n",
    "pattern_list = ['barlowAndMorgensternRevised', 'bruhn','schoenberg','sectionalRepetitions','tomCollins']\n",
    "\n",
    "def get_occurence(f_path, pattern_list):\n",
    "    f = itertools.chain.from_iterable([[_f+'/'+c+'/occurrences/csv/' for c in os.listdir(f_path+_f+'/') if not c.startswith('.')] \n",
    "                                        for _f in os.listdir(f_path) if (not _f.startswith('.') and _f in pattern_list)])\n",
    "    f = list(f)\n",
    "    occur = [[_c for _c in os.listdir(f_path+'/'+_f) if not _c.startswith('.')] for _f in f[:]]\n",
    "    out = []\n",
    "    for c,s in zip(occur, f):\n",
    "        occ_list = []\n",
    "        for _c in c:\n",
    "            csv_file = open(f_path+s+_c,'r')\n",
    "            cs = list(csv.reader(csv_file))\n",
    "            region = [float(cs[0][0]),float(cs[-1][0])]\n",
    "            occ_list.append(region)\n",
    "        out.append(occ_list)\n",
    "    return out\n",
    "\n",
    "audio_list = [{'audio':[file_path+song+'/polyphonic/audio/'+a for a in os.listdir(file_path+song+'/polyphonic/audio/') if a.endswith('wav')][0],\n",
    "               'info':(song, bpm, beat_range),\n",
    "               'pattern':get_occurence(file_path+song+'/polyphonic/repeatedPatterns/', pattern_list)} \n",
    "                for song, bpm, beat_range in zip(song_list, bpm_list, brange)]"
   ]
  },
  {
   "cell_type": "code",
   "execution_count": 8,
   "metadata": {
    "collapsed": false,
    "deletable": true,
    "editable": true
   },
   "outputs": [
    {
     "name": "stdout",
     "output_type": "stream",
     "text": [
      "Process bachBWV889Fg\n",
      "    bach1.mp3\n",
      "    bach2.mp3\n",
      "    bach3.mp3\n",
      "    bach4.mp3\n",
      "    bach5.mp3\n",
      "Process beethovenOp2No1Mvt3\n",
      "    beethoven1.mp3\n",
      "    beethoven2.mp3\n",
      "    beethoven3.mp3\n",
      "    beethoven4.mp3\n",
      "    beethoven5.mp3\n",
      "Process chopinOp24No4\n",
      "    chopin1.mp3\n",
      "    chopin2.mp3\n",
      "    chopin3.mp3\n",
      "    chopin4.mp3\n",
      "    chopin5.mp3\n",
      "Process gibbonsSilverSwan1612\n",
      "    gibbons1.mp3\n",
      "    gibbons2.mp3\n",
      "    gibbons3.mp3\n",
      "    gibbons4.mp3\n",
      "    gibbons5.mp3\n",
      "Process mozartK282Mvt2\n",
      "    mozart1.mp3\n",
      "    mozart2.mp3\n",
      "    mozart3.mp3\n",
      "    mozart4.mp3\n",
      "    mozart5.mp3\n"
     ]
    }
   ],
   "source": [
    "fft_size = 8192\n",
    "hop_size = 128\n",
    "sr = 11025\n",
    "feature_dict = {}\n",
    "for piece in audio_list:\n",
    "    print 'Process '+piece['info'][0]\n",
    "    c_vec = []\n",
    "    b_list = []\n",
    "    \n",
    "    y, sr = librosa.load(piece['audio'], sr = sr)\n",
    "    C = librosa.feature.chroma_cqt(y=y, sr=sr, hop_length=hop_size)\n",
    "    tempo, beats = librosa.beat.beat_track(y=y, sr=sr, hop_length=hop_size)\n",
    "    \n",
    "    c_vec.append(C)\n",
    "    b_list.append(beats)\n",
    "        \n",
    "    performance_path = '../performances/'\n",
    "    p_path =  performance_path+piece['info'][0]+'/'\n",
    "    perform_list = [f for f in os.listdir(p_path) if f.endswith('mp3')]\n",
    "    \n",
    "    for i,p in enumerate(perform_list):\n",
    "        print '    '+p\n",
    "        p = p_path+p\n",
    "        y, sr = librosa.load(p, sr = sr)\n",
    "        C = librosa.feature.chroma_cqt(y=y, sr=sr, hop_length=hop_size)\n",
    "        tempo, beats = librosa.beat.beat_track(y=y, sr=sr, hop_length=hop_size)\n",
    "\n",
    "        c_vec.append(C)\n",
    "        b_list.append(beats)\n",
    "    piece_dict = {'chroma':c_vec, 'beats':b_list}\n",
    "    feature_dict[piece['info'][0]] = piece_dict"
   ]
  },
  {
   "cell_type": "code",
   "execution_count": 9,
   "metadata": {
    "collapsed": false,
    "deletable": true,
    "editable": true
   },
   "outputs": [
    {
     "name": "stdout",
     "output_type": "stream",
     "text": [
      "['chopinOp24No4', 'mozartK282Mvt2', 'beethovenOp2No1Mvt3', 'bachBWV889Fg', 'gibbonsSilverSwan1612']\n"
     ]
    }
   ],
   "source": [
    "print feature_dict.keys()"
   ]
  },
  {
   "cell_type": "code",
   "execution_count": 10,
   "metadata": {
    "collapsed": true,
    "deletable": true,
    "editable": true
   },
   "outputs": [],
   "source": [
    "f = open('motif_feature_03132017','w')\n",
    "pickle.dump(feature_dict, f)\n",
    "f.close()"
   ]
  },
  {
   "cell_type": "code",
   "execution_count": null,
   "metadata": {
    "collapsed": true
   },
   "outputs": [],
   "source": []
  }
 ],
 "metadata": {
  "kernelspec": {
   "display_name": "Python 2",
   "language": "python",
   "name": "python2"
  },
  "language_info": {
   "codemirror_mode": {
    "name": "ipython",
    "version": 2
   },
   "file_extension": ".py",
   "mimetype": "text/x-python",
   "name": "python",
   "nbconvert_exporter": "python",
   "pygments_lexer": "ipython2",
   "version": "2.7.13"
  }
 },
 "nbformat": 4,
 "nbformat_minor": 0
}
